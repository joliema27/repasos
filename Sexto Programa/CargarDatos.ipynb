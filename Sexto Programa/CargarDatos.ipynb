{
 "cells": [
  {
   "cell_type": "markdown",
   "id": "07edb2d1-095c-45ad-b763-6be4d1b0e877",
   "metadata": {},
   "source": [
    "# Cargar Datos"
   ]
  },
  {
   "cell_type": "markdown",
   "id": "f0075534-9c17-45f7-ba85-33415ca6d775",
   "metadata": {},
   "source": [
    "## Ejemplo con archivos en excel"
   ]
  },
  {
   "cell_type": "markdown",
   "id": "06600686-7344-40c5-a04f-c197cae6539d",
   "metadata": {},
   "source": [
    "## Ejemplo cargar archivos .csv"
   ]
  },
  {
   "cell_type": "markdown",
   "id": "e68cc169-785e-4c3c-9a00-ae73fe99c126",
   "metadata": {},
   "source": [
    "requests porque necesito salir de mi dispositivo"
   ]
  },
  {
   "cell_type": "code",
   "execution_count": 1,
   "id": "2b54d0f2-1648-4ff3-9dc7-fa83136bdad6",
   "metadata": {},
   "outputs": [],
   "source": [
    "import requests, pandas"
   ]
  },
  {
   "cell_type": "code",
   "execution_count": 2,
   "id": "0b9a7ec6-0b40-411d-b73f-af344cb470d8",
   "metadata": {},
   "outputs": [],
   "source": [
    "url_=\"https://datos.madrid.es/egob/catalogo/300107-0-agenda-actividades-eventos.csv\""
   ]
  },
  {
   "cell_type": "code",
   "execution_count": 13,
   "id": "8853b503-2491-4d8b-ad7f-f7dd624f1d0a",
   "metadata": {},
   "outputs": [],
   "source": [
    "gasolinas = pandas.read_excel(\"preciosEESS_es.xls\")"
   ]
  },
  {
   "cell_type": "markdown",
   "id": "e72c1443-172c-4e02-bac6-ce5ff7531451",
   "metadata": {},
   "source": [
    "Utilizo un api porque de donde estoy descargando es una api.\n",
    "    get porque estoy solicitando a ese url"
   ]
  },
  {
   "cell_type": "code",
   "execution_count": 3,
   "id": "75ee3061-ec20-4f84-9f4d-7c7ac4b74bf4",
   "metadata": {},
   "outputs": [],
   "source": [
    "res_=requests.api.get(url_)"
   ]
  },
  {
   "cell_type": "code",
   "execution_count": 4,
   "id": "9a36c892-207b-4a7d-b647-a9e473e31bf0",
   "metadata": {},
   "outputs": [
    {
     "data": {
      "text/plain": [
       "{'X-Frame-Options': 'SAMEORIGIN', 'X-XSS-Protection': '1; mode=block', 'X-Content-Type-Options': 'nosniff', 'Cache-Control': 'no-cache', 'OT-force-Account-Verify': 'true', 'Content-disposition': 'attachment;filename=300107-0-agenda-actividades-eventos.csv', 'Content-Type': 'text/csv;charset=ISO-8859-1', 'Content-Encoding': 'gzip', 'X-UA-Compatible': 'IE=8', 'Date': 'Wed, 20 Oct 2021 17:16:15 GMT', 'Transfer-Encoding': 'chunked', 'Connection': 'keep-alive, Transfer-Encoding', 'Vary': 'Accept-Encoding', 'Set-Cookie': 'JSESSIONID=D44D11F160CA557FABE560DA3C6075AB.app03; Path=/; Secure; HttpOnly, ROUTEID=.app03; path=/', 'Strict-Transport-Security': 'max-age=15768000'}"
      ]
     },
     "execution_count": 4,
     "metadata": {},
     "output_type": "execute_result"
    }
   ],
   "source": [
    "res_.headers"
   ]
  },
  {
   "cell_type": "code",
   "execution_count": null,
   "id": "9e0da4d1-87d0-414d-a281-e4d11f9f6b2a",
   "metadata": {},
   "outputs": [],
   "source": [
    "res_.text"
   ]
  },
  {
   "cell_type": "markdown",
   "id": "99f44a03-e38d-4d3c-9e93-84205675f10a",
   "metadata": {},
   "source": [
    "* wb: Write binarie\n",
    "* Se utiliza para crear un nuevo archivo, el metodo open abre un archivo en el caso de que no exista, lo crea\n",
    "* Recibe el nombre del archivo y codificaccion que utiliza"
   ]
  },
  {
   "cell_type": "code",
   "execution_count": 6,
   "id": "38299399-fdeb-4960-a980-2b3659f32b1e",
   "metadata": {},
   "outputs": [],
   "source": [
    "raw_data = open('eventos.csv', 'wb')"
   ]
  },
  {
   "cell_type": "markdown",
   "id": "959196c2-cf97-4ba4-90d9-a438b4a83163",
   "metadata": {},
   "source": [
    "* raw_data es el archivo abierto, luego de tenerlo abierto esccribo sobre el archivo\n",
    "* estoy escribiendo el res_.content y es lo mismo que requests.api.get(url_).content"
   ]
  },
  {
   "cell_type": "code",
   "execution_count": 7,
   "id": "7a75d6c0-520e-47b2-98ac-5b2f55b495ee",
   "metadata": {},
   "outputs": [
    {
     "data": {
      "text/plain": [
       "1002844"
      ]
     },
     "execution_count": 7,
     "metadata": {},
     "output_type": "execute_result"
    }
   ],
   "source": [
    "raw_data.write(res_.content)"
   ]
  },
  {
   "cell_type": "code",
   "execution_count": 8,
   "id": "fb3d8126-dddf-4256-8649-507fd931c330",
   "metadata": {},
   "outputs": [],
   "source": [
    "raw_data.close()"
   ]
  },
  {
   "cell_type": "code",
   "execution_count": 9,
   "id": "b1ffd395-88eb-418c-91e1-c1da78da7a39",
   "metadata": {},
   "outputs": [],
   "source": [
    "with open('NuevosEventos.csv', 'wb') as r_data:\n",
    "    r_data.write(res_.content)"
   ]
  },
  {
   "cell_type": "code",
   "execution_count": 10,
   "id": "77513934-42fc-4138-a963-34a8ec19b547",
   "metadata": {},
   "outputs": [],
   "source": [
    "# pip install pandas"
   ]
  },
  {
   "cell_type": "code",
   "execution_count": 11,
   "id": "194ce7de-85ce-46ba-8320-e7b51cabf4c3",
   "metadata": {},
   "outputs": [],
   "source": [
    "final_file = pandas.read_csv(\"NuevosEventos.csv\", sep=\";\", encoding=\"Latin 1\" )"
   ]
  },
  {
   "cell_type": "code",
   "execution_count": null,
   "id": "735cc753-29a0-4826-8786-331d7d9822b0",
   "metadata": {},
   "outputs": [],
   "source": [
    "final_file"
   ]
  },
  {
   "cell_type": "code",
   "execution_count": null,
   "id": "751a78c2-069e-43f1-b436-785a713c46d2",
   "metadata": {},
   "outputs": [],
   "source": [
    "gasolinas"
   ]
  },
  {
   "cell_type": "code",
   "execution_count": null,
   "id": "03687de6-32c1-4be3-b67e-580d7a2ad497",
   "metadata": {},
   "outputs": [],
   "source": []
  }
 ],
 "metadata": {
  "kernelspec": {
   "display_name": "Python 3",
   "language": "python",
   "name": "python3"
  },
  "language_info": {
   "codemirror_mode": {
    "name": "ipython",
    "version": 3
   },
   "file_extension": ".py",
   "mimetype": "text/x-python",
   "name": "python",
   "nbconvert_exporter": "python",
   "pygments_lexer": "ipython3",
   "version": "3.8.8"
  }
 },
 "nbformat": 4,
 "nbformat_minor": 5
}
