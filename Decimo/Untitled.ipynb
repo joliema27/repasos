{
 "cells": [
  {
   "cell_type": "markdown",
   "id": "a7767c97-acc0-4360-9fed-6ea1aa77a97c",
   "metadata": {},
   "source": [
    "# First prg."
   ]
  },
  {
   "cell_type": "markdown",
   "id": "905d9bf4-2649-4592-99d7-8e4679328f0a",
   "metadata": {},
   "source": [
    "## cree un prg que calcule la sec de fib de 30, 40, 80"
   ]
  },
  {
   "cell_type": "code",
   "execution_count": null,
   "id": "ff9d8f0e-bb89-43a9-9ffa-ad4abcf1b3fa",
   "metadata": {},
   "outputs": [],
   "source": []
  }
 ],
 "metadata": {
  "kernelspec": {
   "display_name": "Python 3",
   "language": "python",
   "name": "python3"
  },
  "language_info": {
   "codemirror_mode": {
    "name": "ipython",
    "version": 3
   },
   "file_extension": ".py",
   "mimetype": "text/x-python",
   "name": "python",
   "nbconvert_exporter": "python",
   "pygments_lexer": "ipython3",
   "version": "3.8.8"
  }
 },
 "nbformat": 4,
 "nbformat_minor": 5
}
