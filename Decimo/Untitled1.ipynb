{
 "cells": [
  {
   "cell_type": "markdown",
   "id": "de8f522c-d901-4bd1-a300-0aa0e641e2ee",
   "metadata": {},
   "source": [
    "# MULTIPLICACION DE MATRICES PARALELAMENTE"
   ]
  },
  {
   "cell_type": "code",
   "execution_count": 1,
   "id": "d3dd1591-bfba-426e-a01f-04e4d905bcdb",
   "metadata": {},
   "outputs": [],
   "source": [
    "import multiprocessing as mp"
   ]
  },
  {
   "cell_type": "code",
   "execution_count": 2,
   "id": "27bb6d4e-9b3e-40a4-956b-d1d796259567",
   "metadata": {},
   "outputs": [],
   "source": [
    "import os"
   ]
  },
  {
   "cell_type": "code",
   "execution_count": 3,
   "id": "8cf8f46a-8922-4b0e-894c-362ea7a5d11d",
   "metadata": {},
   "outputs": [],
   "source": [
    "import math"
   ]
  },
  {
   "cell_type": "code",
   "execution_count": 5,
   "id": "d0fd7ca5-04cb-4c72-9314-6c1730baed19",
   "metadata": {},
   "outputs": [
    {
     "name": "stdin",
     "output_type": "stream",
     "text": [
      "Numero de columnas Matriz 1:  5\n",
      "Numero de filas Matriz 1:  4\n",
      "Numero de columnas Matriz 1:  4\n",
      "Numero de filas Matriz 1:  5\n"
     ]
    }
   ],
   "source": [
    "#Pedimos las columnas y filas de matriz uno\n",
    "n_cols_a = input(\"Numero de columnas Matriz 1: \")\n",
    "n_filas_a= input(\"Numero de filas Matriz 1: \")\n",
    "n_cols_b = input(\"Numero de columnas Matriz 1: \")\n",
    "n_filas_a= input(\"Numero de filas Matriz 1: \")\n"
   ]
  },
  {
   "cell_type": "markdown",
   "id": "1f9d429f-2290-4e14-90a3-b8f4f7484077",
   "metadata": {},
   "source": [
    "LA siguiente funcion definne el paralelismo"
   ]
  },
  {
   "cell_type": "code",
   "execution_count": null,
   "id": "39775649-1841-4d88-b3ef-29daf4807ff5",
   "metadata": {},
   "outputs": [],
   "source": [
    "def PAR(a, b):\n",
    "    n_cores=os.cpu_count()\n",
    "    #Al utilizar los cores para multiplicar, se dividen ya sean columnas o filas entre los cores para saber cuanto trabajo se le da a c\n",
    "    #cada core\n",
    "    size_f = math.ceil(n_filas_a/n_cores)\n",
    "    size_c = math.ceil(n_cols_b/n_cores)  #MAth.ceil() se utiliza para escoger el redondeo mas alto. o sea 3,4=4 no 3 y el .floor() daria 3\n",
    "    cores = []\n",
    "    for core in range(n_cores):\n",
    "        i_mc = min(core*size_f, n_fila ) #Inicio de fila en que comienza a operar el core // lo que se consigue con el min() se valida el minimo\n",
    "        f_mc = min((core+1)*size_f) #fin de las filas en las que trabajara el core\n",
    "        cores.append(mp.Process(target=PAR_CORE,args=(a,b,i_mc,f_mc)))\n",
    "    for core in cores:\n",
    "        core.start()\n",
    "    for core in cores:\n",
    "        core.join()\n",
    "    \n",
    "    "
   ]
  }
 ],
 "metadata": {
  "kernelspec": {
   "display_name": "Python 3",
   "language": "python",
   "name": "python3"
  },
  "language_info": {
   "codemirror_mode": {
    "name": "ipython",
    "version": 3
   },
   "file_extension": ".py",
   "mimetype": "text/x-python",
   "name": "python",
   "nbconvert_exporter": "python",
   "pygments_lexer": "ipython3",
   "version": "3.8.8"
  }
 },
 "nbformat": 4,
 "nbformat_minor": 5
}
