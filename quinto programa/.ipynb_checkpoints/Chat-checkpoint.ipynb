{
 "cells": [
  {
   "cell_type": "markdown",
   "id": "789f5d81-c361-4da8-8b29-e45af50fa02a",
   "metadata": {},
   "source": [
    "<h1 style = \"text-align:center; front-size: 36px\">Programación Concurrente y Distribuida </h1>\n",
    "<a href=\"https://github.com/joliema27\">\n",
    "    <img src=\"foto_Jolie.jpg\" title = \"Jolie Alain 22081586\" alt=\"Jolie Alain 22081586\" width=\"100\" height=\"100\" style=\"float:left;vertical-align:centre\">\n",
    "    <img src=\"Logo UEM.jpeg\" title = \"M21\" alt=\"UE\" width=\"105\" height=\"105\" style=\"float:right;vertical-align:centre\">\n",
    "   "
   ]
  },
  {
   "cell_type": "markdown",
   "id": "4e30107c-3195-4664-b54f-160615d12477",
   "metadata": {},
   "source": [
    "## Hilos Para descargar"
   ]
  },
  {
   "cell_type": "code",
   "execution_count": 1,
   "id": "d9ecc8ac-0387-4885-9d67-a0c1d883c1fa",
   "metadata": {},
   "outputs": [],
   "source": [
    "a_url =  []"
   ]
  },
  {
   "cell_type": "code",
   "execution_count": 2,
   "id": "03a1f475-3519-4cc7-bb8d-f14a99777cfe",
   "metadata": {},
   "outputs": [],
   "source": [
    "for i in range (0,10):\n",
    "   a_url.append( 'https://storage.googleapis.com/christian_vladimir_sucuzhanay_bucket/pictures_videos/pic00'+ str(i) +'.jpeg')\n",
    "    "
   ]
  },
  {
   "cell_type": "code",
   "execution_count": 3,
   "id": "a95a4433-ce2a-4588-b5a1-582c41ae3f45",
   "metadata": {},
   "outputs": [
    {
     "data": {
      "text/plain": [
       "['https://storage.googleapis.com/christian_vladimir_sucuzhanay_bucket/pictures_videos/pic000.jpeg',\n",
       " 'https://storage.googleapis.com/christian_vladimir_sucuzhanay_bucket/pictures_videos/pic001.jpeg',\n",
       " 'https://storage.googleapis.com/christian_vladimir_sucuzhanay_bucket/pictures_videos/pic002.jpeg',\n",
       " 'https://storage.googleapis.com/christian_vladimir_sucuzhanay_bucket/pictures_videos/pic003.jpeg',\n",
       " 'https://storage.googleapis.com/christian_vladimir_sucuzhanay_bucket/pictures_videos/pic004.jpeg',\n",
       " 'https://storage.googleapis.com/christian_vladimir_sucuzhanay_bucket/pictures_videos/pic005.jpeg',\n",
       " 'https://storage.googleapis.com/christian_vladimir_sucuzhanay_bucket/pictures_videos/pic006.jpeg',\n",
       " 'https://storage.googleapis.com/christian_vladimir_sucuzhanay_bucket/pictures_videos/pic007.jpeg',\n",
       " 'https://storage.googleapis.com/christian_vladimir_sucuzhanay_bucket/pictures_videos/pic008.jpeg',\n",
       " 'https://storage.googleapis.com/christian_vladimir_sucuzhanay_bucket/pictures_videos/pic009.jpeg']"
      ]
     },
     "execution_count": 3,
     "metadata": {},
     "output_type": "execute_result"
    }
   ],
   "source": [
    "a_url"
   ]
  },
  {
   "cell_type": "code",
   "execution_count": 12,
   "id": "08a31ac2-f95f-4fff-b6c4-c7dfb4d3c315",
   "metadata": {},
   "outputs": [],
   "source": [
    "import urllib.request as urlReq"
   ]
  },
  {
   "cell_type": "code",
   "execution_count": 13,
   "id": "5465aee7-e8ae-49a6-b0e2-e66391a6c7f3",
   "metadata": {},
   "outputs": [],
   "source": [
    "def descarga (a_url):\n",
    "    for i in range (0,10):\n",
    "        urlReq.urlretrieve(a_url[i])"
   ]
  },
  {
   "cell_type": "code",
   "execution_count": 14,
   "id": "66ed6bf2-909f-49ba-a659-65f983cc3755",
   "metadata": {},
   "outputs": [],
   "source": [
    "import threading as thr"
   ]
  },
  {
   "cell_type": "code",
   "execution_count": null,
   "id": "6f097959-7b22-41dc-bb74-6eddbb988b85",
   "metadata": {},
   "outputs": [],
   "source": []
  }
 ],
 "metadata": {
  "kernelspec": {
   "display_name": "Python 3",
   "language": "python",
   "name": "python3"
  },
  "language_info": {
   "codemirror_mode": {
    "name": "ipython",
    "version": 3
   },
   "file_extension": ".py",
   "mimetype": "text/x-python",
   "name": "python",
   "nbconvert_exporter": "python",
   "pygments_lexer": "ipython3",
   "version": "3.8.8"
  }
 },
 "nbformat": 4,
 "nbformat_minor": 5
}
