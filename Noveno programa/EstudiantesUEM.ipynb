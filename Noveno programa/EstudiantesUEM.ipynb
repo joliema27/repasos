{
 "cells": [
  {
   "cell_type": "code",
   "execution_count": 2,
   "id": "c17bd3fa-80cc-414b-b436-46cc65e2cecd",
   "metadata": {},
   "outputs": [],
   "source": [
    "import random as rand"
   ]
  },
  {
   "cell_type": "code",
   "execution_count": 6,
   "id": "d5f7b522-6226-4284-b94d-9f64dfc85f86",
   "metadata": {},
   "outputs": [],
   "source": [
    "import matplotlib"
   ]
  },
  {
   "cell_type": "code",
   "execution_count": 3,
   "id": "542c4736-f450-4288-b64c-b49ff715500c",
   "metadata": {},
   "outputs": [],
   "source": [
    "import numpy as np"
   ]
  },
  {
   "cell_type": "code",
   "execution_count": 4,
   "id": "d1c86d1d-8566-46bb-9525-e971686458f4",
   "metadata": {},
   "outputs": [],
   "source": [
    "m = rand.randrange(21_000_000, 22_999_999)"
   ]
  },
  {
   "cell_type": "code",
   "execution_count": 5,
   "id": "dc30b6cb-d052-4c5f-940b-42abdc2063af",
   "metadata": {},
   "outputs": [
    {
     "data": {
      "text/plain": [
       "int"
      ]
     },
     "execution_count": 5,
     "metadata": {},
     "output_type": "execute_result"
    }
   ],
   "source": [
    "type(m)"
   ]
  },
  {
   "cell_type": "code",
   "execution_count": null,
   "id": "6160dbda-ee94-47fd-9cb2-74e651762741",
   "metadata": {},
   "outputs": [],
   "source": [
    "[rand.randrange(21_000_000, 22_999_999) for i in range (200)] #Compression list ayuda a no utilizar tanta lineas de codigo"
   ]
  },
  {
   "cell_type": "code",
   "execution_count": 14,
   "id": "9f73228a-d50c-43c3-9314-fe9e34a0ea39",
   "metadata": {},
   "outputs": [],
   "source": [
    "a=[[j for j in range(20)]for i in range(20)] #Esto es util para generar un vector dentro de un vector(Una matriz)"
   ]
  },
  {
   "cell_type": "code",
   "execution_count": 15,
   "id": "4aa32196-681c-43c9-8718-ae062c6d7a0a",
   "metadata": {},
   "outputs": [
    {
     "data": {
      "text/plain": [
       "list"
      ]
     },
     "execution_count": 15,
     "metadata": {},
     "output_type": "execute_result"
    }
   ],
   "source": [
    "type(a)"
   ]
  },
  {
   "cell_type": "code",
   "execution_count": 20,
   "id": "268a663a-8b82-4ef5-aeaa-e7b79688a5d7",
   "metadata": {},
   "outputs": [],
   "source": [
    "am = np.asarray(a)"
   ]
  },
  {
   "cell_type": "code",
   "execution_count": 22,
   "id": "53a11200-aefa-4d3c-880c-e2700838edb7",
   "metadata": {},
   "outputs": [
    {
     "data": {
      "text/plain": [
       "array([[ 0,  1,  2,  3,  4,  5,  6,  7,  8,  9, 10, 11, 12, 13, 14, 15,\n",
       "        16, 17, 18, 19],\n",
       "       [ 0,  1,  2,  3,  4,  5,  6,  7,  8,  9, 10, 11, 12, 13, 14, 15,\n",
       "        16, 17, 18, 19],\n",
       "       [ 0,  1,  2,  3,  4,  5,  6,  7,  8,  9, 10, 11, 12, 13, 14, 15,\n",
       "        16, 17, 18, 19],\n",
       "       [ 0,  1,  2,  3,  4,  5,  6,  7,  8,  9, 10, 11, 12, 13, 14, 15,\n",
       "        16, 17, 18, 19],\n",
       "       [ 0,  1,  2,  3,  4,  5,  6,  7,  8,  9, 10, 11, 12, 13, 14, 15,\n",
       "        16, 17, 18, 19],\n",
       "       [ 0,  1,  2,  3,  4,  5,  6,  7,  8,  9, 10, 11, 12, 13, 14, 15,\n",
       "        16, 17, 18, 19],\n",
       "       [ 0,  1,  2,  3,  4,  5,  6,  7,  8,  9, 10, 11, 12, 13, 14, 15,\n",
       "        16, 17, 18, 19],\n",
       "       [ 0,  1,  2,  3,  4,  5,  6,  7,  8,  9, 10, 11, 12, 13, 14, 15,\n",
       "        16, 17, 18, 19],\n",
       "       [ 0,  1,  2,  3,  4,  5,  6,  7,  8,  9, 10, 11, 12, 13, 14, 15,\n",
       "        16, 17, 18, 19],\n",
       "       [ 0,  1,  2,  3,  4,  5,  6,  7,  8,  9, 10, 11, 12, 13, 14, 15,\n",
       "        16, 17, 18, 19],\n",
       "       [ 0,  1,  2,  3,  4,  5,  6,  7,  8,  9, 10, 11, 12, 13, 14, 15,\n",
       "        16, 17, 18, 19],\n",
       "       [ 0,  1,  2,  3,  4,  5,  6,  7,  8,  9, 10, 11, 12, 13, 14, 15,\n",
       "        16, 17, 18, 19],\n",
       "       [ 0,  1,  2,  3,  4,  5,  6,  7,  8,  9, 10, 11, 12, 13, 14, 15,\n",
       "        16, 17, 18, 19],\n",
       "       [ 0,  1,  2,  3,  4,  5,  6,  7,  8,  9, 10, 11, 12, 13, 14, 15,\n",
       "        16, 17, 18, 19],\n",
       "       [ 0,  1,  2,  3,  4,  5,  6,  7,  8,  9, 10, 11, 12, 13, 14, 15,\n",
       "        16, 17, 18, 19],\n",
       "       [ 0,  1,  2,  3,  4,  5,  6,  7,  8,  9, 10, 11, 12, 13, 14, 15,\n",
       "        16, 17, 18, 19],\n",
       "       [ 0,  1,  2,  3,  4,  5,  6,  7,  8,  9, 10, 11, 12, 13, 14, 15,\n",
       "        16, 17, 18, 19],\n",
       "       [ 0,  1,  2,  3,  4,  5,  6,  7,  8,  9, 10, 11, 12, 13, 14, 15,\n",
       "        16, 17, 18, 19],\n",
       "       [ 0,  1,  2,  3,  4,  5,  6,  7,  8,  9, 10, 11, 12, 13, 14, 15,\n",
       "        16, 17, 18, 19],\n",
       "       [ 0,  1,  2,  3,  4,  5,  6,  7,  8,  9, 10, 11, 12, 13, 14, 15,\n",
       "        16, 17, 18, 19]])"
      ]
     },
     "execution_count": 22,
     "metadata": {},
     "output_type": "execute_result"
    }
   ],
   "source": [
    "am"
   ]
  },
  {
   "cell_type": "code",
   "execution_count": 32,
   "id": "21a42473-43df-452c-ab69-e6bfc10dfe7a",
   "metadata": {},
   "outputs": [
    {
     "name": "stdin",
     "output_type": "stream",
     "text": [
      "Numero de filas:  8\n"
     ]
    }
   ],
   "source": [
    "filas= input(\"Numero de filas: \")"
   ]
  },
  {
   "cell_type": "code",
   "execution_count": 33,
   "id": "4e8edec1-123d-404e-9fbc-8d52c06c7b03",
   "metadata": {},
   "outputs": [
    {
     "name": "stdin",
     "output_type": "stream",
     "text": [
      "Numero de columnas:  4\n"
     ]
    }
   ],
   "source": [
    "column = input(\"Numero de columnas: \")"
   ]
  },
  {
   "cell_type": "code",
   "execution_count": 34,
   "id": "165b9a2f-ca9f-4c3e-9c64-3624f8fecea5",
   "metadata": {},
   "outputs": [],
   "source": [
    "array = [[rand.randrange(21_000_000, 22_999_999) for j in range(int(column))]for i in range(int(filas))]"
   ]
  },
  {
   "cell_type": "code",
   "execution_count": 35,
   "id": "a23c5da5-f2a1-4603-b9e2-3262ad608d55",
   "metadata": {},
   "outputs": [
    {
     "data": {
      "text/plain": [
       "array([[21513910, 22048879, 22460949, 22047018],\n",
       "       [21884154, 22624321, 21440836, 22258667],\n",
       "       [21645864, 21115364, 21707155, 21411166],\n",
       "       [22901955, 21628272, 22535204, 21042210],\n",
       "       [21910359, 22259854, 21034804, 22322244],\n",
       "       [21010580, 22440980, 21527058, 22540201],\n",
       "       [22516928, 22198642, 21216151, 22240977],\n",
       "       [21222576, 21943060, 22493863, 21496080]])"
      ]
     },
     "execution_count": 35,
     "metadata": {},
     "output_type": "execute_result"
    }
   ],
   "source": [
    "np.asarray(array)"
   ]
  },
  {
   "cell_type": "code",
   "execution_count": null,
   "id": "c4821b2b-3c5f-4a5e-ae8d-e29ed2e6ac67",
   "metadata": {},
   "outputs": [],
   "source": []
  }
 ],
 "metadata": {
  "kernelspec": {
   "display_name": "Python 3",
   "language": "python",
   "name": "python3"
  },
  "language_info": {
   "codemirror_mode": {
    "name": "ipython",
    "version": 3
   },
   "file_extension": ".py",
   "mimetype": "text/x-python",
   "name": "python",
   "nbconvert_exporter": "python",
   "pygments_lexer": "ipython3",
   "version": "3.8.8"
  }
 },
 "nbformat": 4,
 "nbformat_minor": 5
}
