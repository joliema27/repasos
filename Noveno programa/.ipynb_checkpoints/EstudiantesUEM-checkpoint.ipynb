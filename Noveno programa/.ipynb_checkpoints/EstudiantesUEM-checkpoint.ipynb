{
 "cells": [
  {
   "cell_type": "code",
   "execution_count": null,
   "id": "c17bd3fa-80cc-414b-b436-46cc65e2cecd",
   "metadata": {},
   "outputs": [],
   "source": [
    "import random as rand"
   ]
  },
  {
   "cell_type": "code",
   "execution_count": null,
   "id": "d1c86d1d-8566-46bb-9525-e971686458f4",
   "metadata": {},
   "outputs": [],
   "source": [
    "rand.randrange(21_000_000, 22_999_999)"
   ]
  },
  {
   "cell_type": "code",
   "execution_count": null,
   "id": "6160dbda-ee94-47fd-9cb2-74e651762741",
   "metadata": {},
   "outputs": [],
   "source": [
    "[rand.randrange(21_000_000, 22_999_999) for i in range (200)] #Compression list ayuda a no utilizar tanta lineas de codigo"
   ]
  },
  {
   "cell_type": "code",
   "execution_count": null,
   "id": "841537b8-fa71-4922-aad4-2574b9f4d63b",
   "metadata": {},
   "outputs": [],
   "source": [
    "[[j for j in range(20)]for i in range(20)] #Esto es util para generar un vector dentro de un vector(Una matriz)"
   ]
  }
 ],
 "metadata": {
  "kernelspec": {
   "display_name": "Python 3",
   "language": "python",
   "name": "python3"
  },
  "language_info": {
   "codemirror_mode": {
    "name": "ipython",
    "version": 3
   },
   "file_extension": ".py",
   "mimetype": "text/x-python",
   "name": "python",
   "nbconvert_exporter": "python",
   "pygments_lexer": "ipython3",
   "version": "3.8.8"
  }
 },
 "nbformat": 4,
 "nbformat_minor": 5
}
