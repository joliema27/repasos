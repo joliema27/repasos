{
 "cells": [
  {
   "cell_type": "markdown",
   "id": "b7bad88d-3ea4-4610-a70a-f0e363b84d4c",
   "metadata": {},
   "source": [
    "## Multiplicacion de una matriz con multiprocesos"
   ]
  },
  {
   "cell_type": "code",
   "execution_count": 1,
   "id": "e2cbd662-f27a-4e1e-bf60-54a28b86595e",
   "metadata": {},
   "outputs": [],
   "source": [
    "a = [[1,2],[4,5],[2,3],[6,1]]"
   ]
  },
  {
   "cell_type": "code",
   "execution_count": 2,
   "id": "30392583-cbf6-47fd-82d9-ca2169a043ff",
   "metadata": {},
   "outputs": [
    {
     "data": {
      "text/plain": [
       "[[1, 2], [4, 5], [2, 3], [6, 1]]"
      ]
     },
     "execution_count": 2,
     "metadata": {},
     "output_type": "execute_result"
    }
   ],
   "source": [
    "a"
   ]
  },
  {
   "cell_type": "code",
   "execution_count": 3,
   "id": "d4b68a32-d1c0-4231-9751-8d5806e5b46a",
   "metadata": {},
   "outputs": [
    {
     "data": {
      "text/plain": [
       "list"
      ]
     },
     "execution_count": 3,
     "metadata": {},
     "output_type": "execute_result"
    }
   ],
   "source": [
    "type(a)"
   ]
  },
  {
   "cell_type": "code",
   "execution_count": 4,
   "id": "d32a0a31-55c1-4286-a054-e8cdf6e55288",
   "metadata": {},
   "outputs": [],
   "source": [
    "b=[[1,2,3],[1,2,3]]"
   ]
  },
  {
   "cell_type": "code",
   "execution_count": 5,
   "id": "16413320-9117-4df2-a9db-1a08f2aa3594",
   "metadata": {},
   "outputs": [
    {
     "data": {
      "text/plain": [
       "[[1, 2, 3], [1, 2, 3]]"
      ]
     },
     "execution_count": 5,
     "metadata": {},
     "output_type": "execute_result"
    }
   ],
   "source": [
    "b"
   ]
  },
  {
   "cell_type": "code",
   "execution_count": 6,
   "id": "7f492edb-4975-48da-9577-fac9927dbd9c",
   "metadata": {},
   "outputs": [
    {
     "data": {
      "text/plain": [
       "list"
      ]
     },
     "execution_count": 6,
     "metadata": {},
     "output_type": "execute_result"
    }
   ],
   "source": [
    "type(b)"
   ]
  },
  {
   "cell_type": "code",
   "execution_count": 7,
   "id": "bee17c6f-ed07-402f-aba9-25f5b7fc950f",
   "metadata": {},
   "outputs": [],
   "source": [
    "import numpy as np"
   ]
  },
  {
   "cell_type": "markdown",
   "id": "a80c3f00-870b-49ff-9c06-183e81820561",
   "metadata": {},
   "source": [
    "Numpy es para realizar calculos con matrices\n"
   ]
  },
  {
   "cell_type": "code",
   "execution_count": 8,
   "id": "391aa771-81d0-48a1-9359-3ca0456f6cc3",
   "metadata": {},
   "outputs": [],
   "source": [
    "a_array=np.asarray(a) "
   ]
  },
  {
   "cell_type": "code",
   "execution_count": 9,
   "id": "b9950922-0d1b-4fcb-88f7-f9d192ab50c5",
   "metadata": {},
   "outputs": [
    {
     "data": {
      "text/plain": [
       "numpy.ndarray"
      ]
     },
     "execution_count": 9,
     "metadata": {},
     "output_type": "execute_result"
    }
   ],
   "source": [
    "type(a_array)"
   ]
  },
  {
   "cell_type": "code",
   "execution_count": 10,
   "id": "3e88ae58-9e12-4886-9a19-b0f887469e9f",
   "metadata": {},
   "outputs": [],
   "source": [
    "b_=np.asanyarray(b)"
   ]
  },
  {
   "cell_type": "code",
   "execution_count": 11,
   "id": "87882ed5-6512-4f8a-a7f5-02fb9e726c1a",
   "metadata": {},
   "outputs": [
    {
     "data": {
      "text/plain": [
       "array([[1, 2, 3],\n",
       "       [1, 2, 3]])"
      ]
     },
     "execution_count": 11,
     "metadata": {},
     "output_type": "execute_result"
    }
   ],
   "source": [
    "b_"
   ]
  },
  {
   "cell_type": "markdown",
   "id": "45d67965-b7bf-4529-ad7f-8a2ac2d05e21",
   "metadata": {},
   "source": [
    "Recorremos los arrays y lo multiplicamos"
   ]
  },
  {
   "cell_type": "code",
   "execution_count": 12,
   "id": "e0efc5af-3cc2-4d67-9016-ca00e41a70e7",
   "metadata": {},
   "outputs": [
    {
     "ename": "SyntaxError",
     "evalue": "invalid syntax (<ipython-input-12-0ab15b53ff40>, line 2)",
     "output_type": "error",
     "traceback": [
      "\u001b[1;36m  File \u001b[1;32m\"<ipython-input-12-0ab15b53ff40>\"\u001b[1;36m, line \u001b[1;32m2\u001b[0m\n\u001b[1;33m    for in range(0,1):\u001b[0m\n\u001b[1;37m        ^\u001b[0m\n\u001b[1;31mSyntaxError\u001b[0m\u001b[1;31m:\u001b[0m invalid syntax\n"
     ]
    }
   ],
   "source": [
    "for i in range(0,3):\n",
    "    for in range(0,1):\n",
    "        "
   ]
  },
  {
   "cell_type": "code",
   "execution_count": 16,
   "id": "2c6b100a-f61a-4466-8268-c2b9c24a06f6",
   "metadata": {},
   "outputs": [],
   "source": [
    "c = np.dot(a_array,b_)"
   ]
  },
  {
   "cell_type": "code",
   "execution_count": 17,
   "id": "4d11e88f-5fa9-412e-a2fd-9edc1a7d6e34",
   "metadata": {},
   "outputs": [
    {
     "data": {
      "text/plain": [
       "array([[ 3,  6,  9],\n",
       "       [ 9, 18, 27],\n",
       "       [ 5, 10, 15],\n",
       "       [ 7, 14, 21]])"
      ]
     },
     "execution_count": 17,
     "metadata": {},
     "output_type": "execute_result"
    }
   ],
   "source": [
    "c"
   ]
  },
  {
   "cell_type": "markdown",
   "id": "1d47c9aa-618f-41e0-96bb-90a6d010fe80",
   "metadata": {},
   "source": [
    "Para utilizar multiprocesos importamos:\n"
   ]
  },
  {
   "cell_type": "code",
   "execution_count": 22,
   "id": "0d066546-49ca-43a8-93c5-e43552403e39",
   "metadata": {},
   "outputs": [],
   "source": [
    "import multiprocessing as mp, IPython as Ip"
   ]
  },
  {
   "cell_type": "markdown",
   "id": "b98f42a5-7915-4abd-bba1-c33fc56a15f8",
   "metadata": {},
   "source": [
    "Para guardar el resultado se utiliza: rawArray(no sync, es mas rapido) y Array(si quieres que no haya sync)\n",
    "// No existe lo bidimensional en multicores"
   ]
  },
  {
   "cell_type": "code",
   "execution_count": 26,
   "id": "4d7c50c2-b558-45d6-9f42-e9049f277112",
   "metadata": {},
   "outputs": [
    {
     "data": {
      "text/plain": [
       "[[0, 0, 0, 0, 0],\n",
       " [0, 0, 0, 0, 0],\n",
       " [0, 0, 0, 0, 0],\n",
       " [0, 0, 0, 0, 0],\n",
       " [0, 0, 0, 0, 0]]"
      ]
     },
     "execution_count": 26,
     "metadata": {},
     "output_type": "execute_result"
    }
   ],
   "source": [
    "[[0]*5 for i in range(5)]"
   ]
  },
  {
   "cell_type": "code",
   "execution_count": 30,
   "id": "0556eaee-91f0-4bdd-a3f7-34df3ed0e3a5",
   "metadata": {},
   "outputs": [
    {
     "data": {
      "text/plain": [
       "8"
      ]
     },
     "execution_count": 30,
     "metadata": {},
     "output_type": "execute_result"
    }
   ],
   "source": [
    "mp.cpu_count() #devuelve el numero de cores que se pueden utilizar"
   ]
  },
  {
   "cell_type": "code",
   "execution_count": null,
   "id": "3646ad5a-211a-428a-ae31-45991c872762",
   "metadata": {},
   "outputs": [],
   "source": []
  }
 ],
 "metadata": {
  "kernelspec": {
   "display_name": "Python 3",
   "language": "python",
   "name": "python3"
  },
  "language_info": {
   "codemirror_mode": {
    "name": "ipython",
    "version": 3
   },
   "file_extension": ".py",
   "mimetype": "text/x-python",
   "name": "python",
   "nbconvert_exporter": "python",
   "pygments_lexer": "ipython3",
   "version": "3.8.8"
  }
 },
 "nbformat": 4,
 "nbformat_minor": 5
}
