{
 "cells": [
  {
   "cell_type": "markdown",
   "id": "02d72135-c84b-47d1-9062-92cae568691c",
   "metadata": {},
   "source": [
    "## Descargar por Apis, Coches"
   ]
  },
  {
   "cell_type": "code",
   "execution_count": 1,
   "id": "c9bb561e-7068-45f4-9e97-dd159c64c727",
   "metadata": {},
   "outputs": [],
   "source": [
    "import requests, pandas, json"
   ]
  },
  {
   "cell_type": "code",
   "execution_count": 2,
   "id": "ea7bd3f0-23df-4387-83b1-a00e0de355c9",
   "metadata": {},
   "outputs": [],
   "source": [
    "urlNueva= \"https://sedeaplicaciones.minetur.gob.es/ServiciosRESTCarburantes/PreciosCarburantes/EstacionesTerrestres/\""
   ]
  },
  {
   "cell_type": "markdown",
   "id": "392f832c-d398-4e6f-919e-7dc73581876a",
   "metadata": {},
   "source": [
    "Esto se hace porque se puede coger la info en cada momento, no es estatica al tomarlo con una api. (o sea del interfaz de una pagina, toma el link)\n"
   ]
  },
  {
   "cell_type": "code",
   "execution_count": 3,
   "id": "a6c85e55-197d-49c7-b8b0-0e38e516cecb",
   "metadata": {},
   "outputs": [],
   "source": [
    "guardado = requests.api.get(urlNueva)"
   ]
  },
  {
   "cell_type": "code",
   "execution_count": 4,
   "id": "ac29c44b-1770-49af-be11-a71aea19a4cf",
   "metadata": {},
   "outputs": [
    {
     "data": {
      "text/plain": [
       "{'Cache-Control': 'private', 'Content-Length': '9276096', 'Content-Type': 'application/json; charset=utf-8', 'Server': 'Microsoft-IIS/7.5', 'X-AspNet-Version': '4.0.30319', 'X-Powered-By': 'ASP.NET', 'Access-Control-Allow-Origin': '*', 'Access-Control-Allow-Headers': 'Origin, X-Requested-With, Content-Type, Accept, Authorization', 'Access-Control-Allow-Methods': 'POST,GET,OPTIONS', 'Date': 'Thu, 21 Oct 2021 16:38:44 GMT'}"
      ]
     },
     "execution_count": 4,
     "metadata": {},
     "output_type": "execute_result"
    }
   ],
   "source": [
    "guardado.headers"
   ]
  },
  {
   "cell_type": "code",
   "execution_count": 5,
   "id": "3744829a-138f-4e6d-a2a8-9598bb877dce",
   "metadata": {},
   "outputs": [],
   "source": [
    "raw_data = open(\"diesel.json\", \"w\")"
   ]
  },
  {
   "cell_type": "code",
   "execution_count": 6,
   "id": "7dd62f26-79d5-44ea-8b61-65312667dd93",
   "metadata": {},
   "outputs": [
    {
     "data": {
      "text/plain": [
       "9199947"
      ]
     },
     "execution_count": 6,
     "metadata": {},
     "output_type": "execute_result"
    }
   ],
   "source": [
    "raw_data.write(guardado.text)"
   ]
  },
  {
   "cell_type": "code",
   "execution_count": 7,
   "id": "cb7b42fd-1c30-4849-b4e8-277f7233b902",
   "metadata": {},
   "outputs": [],
   "source": [
    "raw_data.close()"
   ]
  },
  {
   "cell_type": "code",
   "execution_count": 8,
   "id": "138424b0-9732-4fb5-9354-f21d38b3fb65",
   "metadata": {},
   "outputs": [
    {
     "data": {
      "text/html": [
       "<div>\n",
       "<style scoped>\n",
       "    .dataframe tbody tr th:only-of-type {\n",
       "        vertical-align: middle;\n",
       "    }\n",
       "\n",
       "    .dataframe tbody tr th {\n",
       "        vertical-align: top;\n",
       "    }\n",
       "\n",
       "    .dataframe thead th {\n",
       "        text-align: right;\n",
       "    }\n",
       "</style>\n",
       "<table border=\"1\" class=\"dataframe\">\n",
       "  <thead>\n",
       "    <tr style=\"text-align: right;\">\n",
       "      <th></th>\n",
       "      <th>Fecha</th>\n",
       "      <th>ListaEESSPrecio</th>\n",
       "      <th>Nota</th>\n",
       "      <th>ResultadoConsulta</th>\n",
       "    </tr>\n",
       "  </thead>\n",
       "  <tbody>\n",
       "    <tr>\n",
       "      <th>0</th>\n",
       "      <td>21/10/2021 18:38:43</td>\n",
       "      <td>{'C.P.': '02250', 'Dirección': 'AVENIDA CASTIL...</td>\n",
       "      <td>Archivo de todos los productos en todas las es...</td>\n",
       "      <td>OK</td>\n",
       "    </tr>\n",
       "    <tr>\n",
       "      <th>1</th>\n",
       "      <td>21/10/2021 18:38:43</td>\n",
       "      <td>{'C.P.': '02152', 'Dirección': 'CR CM-332, 46,...</td>\n",
       "      <td>Archivo de todos los productos en todas las es...</td>\n",
       "      <td>OK</td>\n",
       "    </tr>\n",
       "    <tr>\n",
       "      <th>2</th>\n",
       "      <td>21/10/2021 18:38:43</td>\n",
       "      <td>{'C.P.': '02001', 'Dirección': 'CALLE FEDERICO...</td>\n",
       "      <td>Archivo de todos los productos en todas las es...</td>\n",
       "      <td>OK</td>\n",
       "    </tr>\n",
       "    <tr>\n",
       "      <th>3</th>\n",
       "      <td>21/10/2021 18:38:43</td>\n",
       "      <td>{'C.P.': '02001', 'Dirección': 'CALLE PRINCIPE...</td>\n",
       "      <td>Archivo de todos los productos en todas las es...</td>\n",
       "      <td>OK</td>\n",
       "    </tr>\n",
       "    <tr>\n",
       "      <th>4</th>\n",
       "      <td>21/10/2021 18:38:43</td>\n",
       "      <td>{'C.P.': '02001', 'Dirección': 'AVENIDA 1º DE ...</td>\n",
       "      <td>Archivo de todos los productos en todas las es...</td>\n",
       "      <td>OK</td>\n",
       "    </tr>\n",
       "    <tr>\n",
       "      <th>...</th>\n",
       "      <td>...</td>\n",
       "      <td>...</td>\n",
       "      <td>...</td>\n",
       "      <td>...</td>\n",
       "    </tr>\n",
       "    <tr>\n",
       "      <th>11414</th>\n",
       "      <td>21/10/2021 18:38:43</td>\n",
       "      <td>{'C.P.': '50197', 'Dirección': 'AVENIDA DIAGON...</td>\n",
       "      <td>Archivo de todos los productos en todas las es...</td>\n",
       "      <td>OK</td>\n",
       "    </tr>\n",
       "    <tr>\n",
       "      <th>11415</th>\n",
       "      <td>21/10/2021 18:38:43</td>\n",
       "      <td>{'C.P.': '50197', 'Dirección': 'POLIGONO CALLE...</td>\n",
       "      <td>Archivo de todos los productos en todas las es...</td>\n",
       "      <td>OK</td>\n",
       "    </tr>\n",
       "    <tr>\n",
       "      <th>11416</th>\n",
       "      <td>21/10/2021 18:38:43</td>\n",
       "      <td>{'C.P.': '50800', 'Dirección': 'CARRETERA N-33...</td>\n",
       "      <td>Archivo de todos los productos en todas las es...</td>\n",
       "      <td>OK</td>\n",
       "    </tr>\n",
       "    <tr>\n",
       "      <th>11417</th>\n",
       "      <td>21/10/2021 18:38:43</td>\n",
       "      <td>{'C.P.': '50800', 'Dirección': 'CALLE AUSTRIA,...</td>\n",
       "      <td>Archivo de todos los productos en todas las es...</td>\n",
       "      <td>OK</td>\n",
       "    </tr>\n",
       "    <tr>\n",
       "      <th>11418</th>\n",
       "      <td>21/10/2021 18:38:43</td>\n",
       "      <td>{'C.P.': '50810', 'Dirección': 'CALLE COOPERAT...</td>\n",
       "      <td>Archivo de todos los productos en todas las es...</td>\n",
       "      <td>OK</td>\n",
       "    </tr>\n",
       "  </tbody>\n",
       "</table>\n",
       "<p>11419 rows × 4 columns</p>\n",
       "</div>"
      ],
      "text/plain": [
       "                     Fecha                                    ListaEESSPrecio  \\\n",
       "0      21/10/2021 18:38:43  {'C.P.': '02250', 'Dirección': 'AVENIDA CASTIL...   \n",
       "1      21/10/2021 18:38:43  {'C.P.': '02152', 'Dirección': 'CR CM-332, 46,...   \n",
       "2      21/10/2021 18:38:43  {'C.P.': '02001', 'Dirección': 'CALLE FEDERICO...   \n",
       "3      21/10/2021 18:38:43  {'C.P.': '02001', 'Dirección': 'CALLE PRINCIPE...   \n",
       "4      21/10/2021 18:38:43  {'C.P.': '02001', 'Dirección': 'AVENIDA 1º DE ...   \n",
       "...                    ...                                                ...   \n",
       "11414  21/10/2021 18:38:43  {'C.P.': '50197', 'Dirección': 'AVENIDA DIAGON...   \n",
       "11415  21/10/2021 18:38:43  {'C.P.': '50197', 'Dirección': 'POLIGONO CALLE...   \n",
       "11416  21/10/2021 18:38:43  {'C.P.': '50800', 'Dirección': 'CARRETERA N-33...   \n",
       "11417  21/10/2021 18:38:43  {'C.P.': '50800', 'Dirección': 'CALLE AUSTRIA,...   \n",
       "11418  21/10/2021 18:38:43  {'C.P.': '50810', 'Dirección': 'CALLE COOPERAT...   \n",
       "\n",
       "                                                    Nota ResultadoConsulta  \n",
       "0      Archivo de todos los productos en todas las es...                OK  \n",
       "1      Archivo de todos los productos en todas las es...                OK  \n",
       "2      Archivo de todos los productos en todas las es...                OK  \n",
       "3      Archivo de todos los productos en todas las es...                OK  \n",
       "4      Archivo de todos los productos en todas las es...                OK  \n",
       "...                                                  ...               ...  \n",
       "11414  Archivo de todos los productos en todas las es...                OK  \n",
       "11415  Archivo de todos los productos en todas las es...                OK  \n",
       "11416  Archivo de todos los productos en todas las es...                OK  \n",
       "11417  Archivo de todos los productos en todas las es...                OK  \n",
       "11418  Archivo de todos los productos en todas las es...                OK  \n",
       "\n",
       "[11419 rows x 4 columns]"
      ]
     },
     "execution_count": 8,
     "metadata": {},
     "output_type": "execute_result"
    }
   ],
   "source": [
    "pandas.read_json(\"diesel.json\", encoding=\"Latin 1\")"
   ]
  },
  {
   "cell_type": "code",
   "execution_count": 9,
   "id": "9abd3ce5-f30f-40a2-b8e2-bde31593cba3",
   "metadata": {},
   "outputs": [
    {
     "name": "stdout",
     "output_type": "stream",
     "text": [
      " El volumen de la unidad C es OS\n",
      " El número de serie del volumen es: EE47-DF95\n",
      "\n",
      " Directorio de C:\\Users\\jolie\\septimo programa\n",
      "\n",
      "21/10/2021  18:38         9.199.947 diesel.json\n",
      "               1 archivos      9.199.947 bytes\n",
      "               0 dirs  73.603.465.216 bytes libres\n"
     ]
    }
   ],
   "source": [
    "ls diesel.json"
   ]
  },
  {
   "cell_type": "markdown",
   "id": "fabe679c-8b57-40ae-980e-c5fd3524d1b4",
   "metadata": {},
   "source": [
    "less diesel.json"
   ]
  },
  {
   "cell_type": "code",
   "execution_count": 10,
   "id": "8a69efd8-d26b-40d7-bafd-f983d5d42fcd",
   "metadata": {},
   "outputs": [
    {
     "data": {
      "text/html": [
       "<div>\n",
       "<style scoped>\n",
       "    .dataframe tbody tr th:only-of-type {\n",
       "        vertical-align: middle;\n",
       "    }\n",
       "\n",
       "    .dataframe tbody tr th {\n",
       "        vertical-align: top;\n",
       "    }\n",
       "\n",
       "    .dataframe thead th {\n",
       "        text-align: right;\n",
       "    }\n",
       "</style>\n",
       "<table border=\"1\" class=\"dataframe\">\n",
       "  <thead>\n",
       "    <tr style=\"text-align: right;\">\n",
       "      <th></th>\n",
       "      <th>Fecha</th>\n",
       "      <th>ListaEESSPrecio</th>\n",
       "      <th>Nota</th>\n",
       "      <th>ResultadoConsulta</th>\n",
       "    </tr>\n",
       "  </thead>\n",
       "  <tbody>\n",
       "    <tr>\n",
       "      <th>0</th>\n",
       "      <td>21/10/2021 18:38:43</td>\n",
       "      <td>{'C.P.': '02250', 'Direcci�n': 'AVENIDA CASTIL...</td>\n",
       "      <td>Archivo de todos los productos en todas las es...</td>\n",
       "      <td>OK</td>\n",
       "    </tr>\n",
       "    <tr>\n",
       "      <th>1</th>\n",
       "      <td>21/10/2021 18:38:43</td>\n",
       "      <td>{'C.P.': '02152', 'Direcci�n': 'CR CM-332, 46,...</td>\n",
       "      <td>Archivo de todos los productos en todas las es...</td>\n",
       "      <td>OK</td>\n",
       "    </tr>\n",
       "    <tr>\n",
       "      <th>2</th>\n",
       "      <td>21/10/2021 18:38:43</td>\n",
       "      <td>{'C.P.': '02001', 'Direcci�n': 'CALLE FEDERICO...</td>\n",
       "      <td>Archivo de todos los productos en todas las es...</td>\n",
       "      <td>OK</td>\n",
       "    </tr>\n",
       "    <tr>\n",
       "      <th>3</th>\n",
       "      <td>21/10/2021 18:38:43</td>\n",
       "      <td>{'C.P.': '02001', 'Direcci�n': 'CALLE PRINCIPE...</td>\n",
       "      <td>Archivo de todos los productos en todas las es...</td>\n",
       "      <td>OK</td>\n",
       "    </tr>\n",
       "    <tr>\n",
       "      <th>4</th>\n",
       "      <td>21/10/2021 18:38:43</td>\n",
       "      <td>{'C.P.': '02001', 'Direcci�n': 'AVENIDA 1� DE ...</td>\n",
       "      <td>Archivo de todos los productos en todas las es...</td>\n",
       "      <td>OK</td>\n",
       "    </tr>\n",
       "    <tr>\n",
       "      <th>...</th>\n",
       "      <td>...</td>\n",
       "      <td>...</td>\n",
       "      <td>...</td>\n",
       "      <td>...</td>\n",
       "    </tr>\n",
       "    <tr>\n",
       "      <th>11414</th>\n",
       "      <td>21/10/2021 18:38:43</td>\n",
       "      <td>{'C.P.': '50197', 'Direcci�n': 'AVENIDA DIAGON...</td>\n",
       "      <td>Archivo de todos los productos en todas las es...</td>\n",
       "      <td>OK</td>\n",
       "    </tr>\n",
       "    <tr>\n",
       "      <th>11415</th>\n",
       "      <td>21/10/2021 18:38:43</td>\n",
       "      <td>{'C.P.': '50197', 'Direcci�n': 'POLIGONO CALLE...</td>\n",
       "      <td>Archivo de todos los productos en todas las es...</td>\n",
       "      <td>OK</td>\n",
       "    </tr>\n",
       "    <tr>\n",
       "      <th>11416</th>\n",
       "      <td>21/10/2021 18:38:43</td>\n",
       "      <td>{'C.P.': '50800', 'Direcci�n': 'CARRETERA N-33...</td>\n",
       "      <td>Archivo de todos los productos en todas las es...</td>\n",
       "      <td>OK</td>\n",
       "    </tr>\n",
       "    <tr>\n",
       "      <th>11417</th>\n",
       "      <td>21/10/2021 18:38:43</td>\n",
       "      <td>{'C.P.': '50800', 'Direcci�n': 'CALLE AUSTRIA,...</td>\n",
       "      <td>Archivo de todos los productos en todas las es...</td>\n",
       "      <td>OK</td>\n",
       "    </tr>\n",
       "    <tr>\n",
       "      <th>11418</th>\n",
       "      <td>21/10/2021 18:38:43</td>\n",
       "      <td>{'C.P.': '50810', 'Direcci�n': 'CALLE COOPERAT...</td>\n",
       "      <td>Archivo de todos los productos en todas las es...</td>\n",
       "      <td>OK</td>\n",
       "    </tr>\n",
       "  </tbody>\n",
       "</table>\n",
       "<p>11419 rows × 4 columns</p>\n",
       "</div>"
      ],
      "text/plain": [
       "                     Fecha                                    ListaEESSPrecio  \\\n",
       "0      21/10/2021 18:38:43  {'C.P.': '02250', 'Direcci�n': 'AVENIDA CASTIL...   \n",
       "1      21/10/2021 18:38:43  {'C.P.': '02152', 'Direcci�n': 'CR CM-332, 46,...   \n",
       "2      21/10/2021 18:38:43  {'C.P.': '02001', 'Direcci�n': 'CALLE FEDERICO...   \n",
       "3      21/10/2021 18:38:43  {'C.P.': '02001', 'Direcci�n': 'CALLE PRINCIPE...   \n",
       "4      21/10/2021 18:38:43  {'C.P.': '02001', 'Direcci�n': 'AVENIDA 1� DE ...   \n",
       "...                    ...                                                ...   \n",
       "11414  21/10/2021 18:38:43  {'C.P.': '50197', 'Direcci�n': 'AVENIDA DIAGON...   \n",
       "11415  21/10/2021 18:38:43  {'C.P.': '50197', 'Direcci�n': 'POLIGONO CALLE...   \n",
       "11416  21/10/2021 18:38:43  {'C.P.': '50800', 'Direcci�n': 'CARRETERA N-33...   \n",
       "11417  21/10/2021 18:38:43  {'C.P.': '50800', 'Direcci�n': 'CALLE AUSTRIA,...   \n",
       "11418  21/10/2021 18:38:43  {'C.P.': '50810', 'Direcci�n': 'CALLE COOPERAT...   \n",
       "\n",
       "                                                    Nota ResultadoConsulta  \n",
       "0      Archivo de todos los productos en todas las es...                OK  \n",
       "1      Archivo de todos los productos en todas las es...                OK  \n",
       "2      Archivo de todos los productos en todas las es...                OK  \n",
       "3      Archivo de todos los productos en todas las es...                OK  \n",
       "4      Archivo de todos los productos en todas las es...                OK  \n",
       "...                                                  ...               ...  \n",
       "11414  Archivo de todos los productos en todas las es...                OK  \n",
       "11415  Archivo de todos los productos en todas las es...                OK  \n",
       "11416  Archivo de todos los productos en todas las es...                OK  \n",
       "11417  Archivo de todos los productos en todas las es...                OK  \n",
       "11418  Archivo de todos los productos en todas las es...                OK  \n",
       "\n",
       "[11419 rows x 4 columns]"
      ]
     },
     "execution_count": 10,
     "metadata": {},
     "output_type": "execute_result"
    }
   ],
   "source": [
    "pandas.read_json(\"diesel.json\")"
   ]
  },
  {
   "cell_type": "code",
   "execution_count": null,
   "id": "f97a43dd-10f8-4c32-8826-2134b482ac35",
   "metadata": {},
   "outputs": [],
   "source": []
  }
 ],
 "metadata": {
  "kernelspec": {
   "display_name": "Python 3",
   "language": "python",
   "name": "python3"
  },
  "language_info": {
   "codemirror_mode": {
    "name": "ipython",
    "version": 3
   },
   "file_extension": ".py",
   "mimetype": "text/x-python",
   "name": "python",
   "nbconvert_exporter": "python",
   "pygments_lexer": "ipython3",
   "version": "3.8.8"
  }
 },
 "nbformat": 4,
 "nbformat_minor": 5
}
