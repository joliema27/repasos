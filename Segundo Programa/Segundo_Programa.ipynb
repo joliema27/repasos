{
 "cells": [
  {
   "cell_type": "markdown",
   "id": "d87ea951-8d9b-4f2c-b968-5abdf011db6f",
   "metadata": {},
   "source": [
    "## Segundo Programa de Python"
   ]
  },
  {
   "cell_type": "markdown",
   "id": "c9341c22-4e2c-44ef-bbc3-a9e8a0d55d85",
   "metadata": {},
   "source": [
    "1. Cuantos cores/cpu's tiene su equipo"
   ]
  },
  {
   "cell_type": "code",
   "execution_count": null,
   "id": "c68ea907-c468-43ed-b8f6-d2734d589afd",
   "metadata": {},
   "outputs": [],
   "source": [
    "import os"
   ]
  },
  {
   "cell_type": "code",
   "execution_count": null,
   "id": "471d0f1d-62ae-4815-b010-1613b666fee4",
   "metadata": {},
   "outputs": [],
   "source": [
    "os.cpu_count()"
   ]
  },
  {
   "cell_type": "markdown",
   "id": "2b3a22ee-0379-4deb-837c-2afb6e4106a6",
   "metadata": {},
   "source": [
    "2. Cuantos cores/cpu's fisicos tiene su equipo"
   ]
  },
  {
   "cell_type": "code",
   "execution_count": 13,
   "id": "b5ac3859-c3a2-4879-9bbf-3cbf9f9e796a",
   "metadata": {},
   "outputs": [
    {
     "name": "stdout",
     "output_type": "stream",
     "text": [
      "Mi equipo tiene 4.0 cores fisicos\n"
     ]
    }
   ],
   "source": [
    "print(\"Mi equipo tiene \" + str(os.cpu_count()/2)+ \" cores fisicos\")"
   ]
  },
  {
   "cell_type": "markdown",
   "id": "17fb82af-e599-4ff5-8bf8-13ebe935819c",
   "metadata": {},
   "source": [
    "3. Cuantos cores logicos tiene tu equipo"
   ]
  },
  {
   "cell_type": "code",
   "execution_count": 14,
   "id": "3fbcdb89-d4d3-4672-bb5b-b09d763206e2",
   "metadata": {},
   "outputs": [
    {
     "name": "stdout",
     "output_type": "stream",
     "text": [
      "Mi equipo tiene 8 cores logicos\n"
     ]
    }
   ],
   "source": [
    "print(\"Mi equipo tiene \"+ str(os.cpu_count())+ \" cores logicos\")"
   ]
  },
  {
   "cell_type": "markdown",
   "id": "ed35969f-10f9-4304-b39c-fa11a6313428",
   "metadata": {
    "tags": []
   },
   "source": [
    "4. Cree una funcion con el objetivo de mantener su cpu activa al menos 10 segundos(que no haga nada la funcion)"
   ]
  },
  {
   "cell_type": "code",
   "execution_count": 23,
   "id": "87eb1e6a-2187-4a74-89c8-4c0f6e117c01",
   "metadata": {
    "tags": []
   },
   "outputs": [],
   "source": [
    "def ten():\n",
    "    while True:\n",
    "        pass"
   ]
  },
  {
   "cell_type": "code",
   "execution_count": 15,
   "id": "75f68cd7-b1de-411d-b8f6-264cfc3b7319",
   "metadata": {},
   "outputs": [
    {
     "data": {
      "text/plain": [
       "28532"
      ]
     },
     "execution_count": 15,
     "metadata": {},
     "output_type": "execute_result"
    }
   ],
   "source": [
    "os.getpid()"
   ]
  },
  {
   "cell_type": "code",
   "execution_count": 25,
   "id": "98963022-fb12-4f1a-a866-896462469e71",
   "metadata": {},
   "outputs": [],
   "source": [
    "def ten1():\n",
    "    for i in range(1000):\n",
    "        pass"
   ]
  },
  {
   "cell_type": "markdown",
   "id": "51e2cb8e-2217-4fe8-8757-a4f9abbb93c0",
   "metadata": {},
   "source": [
    "5. Que version de python tienes instalada"
   ]
  },
  {
   "cell_type": "code",
   "execution_count": 20,
   "id": "81ccb71d-128c-4b07-8033-1bdda769f9c6",
   "metadata": {},
   "outputs": [],
   "source": [
    "import platform as plat"
   ]
  },
  {
   "cell_type": "code",
   "execution_count": 26,
   "id": "256e75ae-2136-4865-8b89-c06c2fe7ae13",
   "metadata": {
    "tags": []
   },
   "outputs": [
    {
     "data": {
      "text/plain": [
       "'3.8.8'"
      ]
     },
     "execution_count": 26,
     "metadata": {},
     "output_type": "execute_result"
    }
   ],
   "source": [
    "plat.python_version()"
   ]
  },
  {
   "cell_type": "markdown",
   "id": "1276883e-cb77-462f-a729-f9877a4598ad",
   "metadata": {},
   "source": [
    "6. El bus de su maquina es de 32 o 64?"
   ]
  },
  {
   "cell_type": "code",
   "execution_count": 27,
   "id": "6c4e62d2-ed7f-437a-a72f-896b1df39962",
   "metadata": {},
   "outputs": [
    {
     "data": {
      "text/plain": [
       "('64bit', 'WindowsPE')"
      ]
     },
     "execution_count": 27,
     "metadata": {},
     "output_type": "execute_result"
    }
   ],
   "source": [
    "plat.architecture()"
   ]
  },
  {
   "cell_type": "code",
   "execution_count": 47,
   "id": "65d1c62c-4cbb-4198-953c-c440d449030b",
   "metadata": {},
   "outputs": [],
   "source": [
    "def to_ten():\n",
    "    for i in range(10):\n",
    "        print(i)"
   ]
  },
  {
   "cell_type": "markdown",
   "id": "d591724a-eb4e-40b1-b1a3-d6fe6a046c1d",
   "metadata": {},
   "source": [
    "8. Ejecute 20 veces la funcion antes mencionada"
   ]
  },
  {
   "cell_type": "code",
   "execution_count": 33,
   "id": "c37dec12-0605-458f-bb7e-8ca366018830",
   "metadata": {},
   "outputs": [],
   "source": [
    "import threading as thr"
   ]
  },
  {
   "cell_type": "code",
   "execution_count": null,
   "id": "f7786c71-cd2d-4c56-a058-5030897621b0",
   "metadata": {},
   "outputs": [],
   "source": [
    "thr.Thread(target=to_ten).start()"
   ]
  },
  {
   "cell_type": "code",
   "execution_count": 48,
   "id": "028d955d-b028-4a66-ae1c-71f51ddc5b93",
   "metadata": {},
   "outputs": [
    {
     "name": "stdout",
     "output_type": "stream",
     "text": [
      "0\n",
      "1\n",
      "2\n",
      "3\n",
      "4\n",
      "5\n",
      "6\n",
      "7\n",
      "8\n",
      "9\n",
      "0\n",
      "1\n",
      "2\n",
      "3\n",
      "4\n",
      "5\n",
      "6\n",
      "7\n",
      "0\n",
      "1\n",
      "2\n",
      "83\n",
      "4\n",
      "5\n",
      "6\n",
      "7\n",
      "8\n",
      "9\n",
      "\n",
      "9\n",
      "0\n",
      "1\n",
      "2\n",
      "3\n",
      "4\n",
      "5\n",
      "6\n",
      "7\n",
      "8\n",
      "9\n",
      "0\n",
      "1\n",
      "2\n",
      "3\n",
      "4\n",
      "5\n",
      "6\n",
      "7\n",
      "8\n",
      "9\n",
      "00\n",
      "1\n",
      "2\n",
      "3\n",
      "4\n",
      "5\n",
      "6\n",
      "7\n",
      "8\n",
      "9\n",
      "\n",
      "1\n",
      "2\n",
      "3\n",
      "4\n",
      "5\n",
      "6\n",
      "7\n",
      "8\n",
      "9\n",
      "0\n",
      "1\n",
      "2\n",
      "3\n",
      "4\n",
      "5\n",
      "6\n",
      "7\n",
      "8\n",
      "9\n",
      "0\n",
      "1\n",
      "2\n",
      "3\n",
      "4\n",
      "5\n",
      "6\n",
      "7\n",
      "8\n",
      "9\n",
      "0\n",
      "1\n",
      "2\n",
      "3\n",
      "4\n",
      "5\n",
      "6\n",
      "7\n",
      "8\n",
      "9\n"
     ]
    }
   ],
   "source": [
    "for i in range(10):\n",
    "    thr.Thread(target=to_ten).start()"
   ]
  },
  {
   "cell_type": "markdown",
   "id": "3d20a717-b33e-4d68-971e-7da87a0e73fc",
   "metadata": {},
   "source": [
    "9. Cuantos hilos estan activos?"
   ]
  },
  {
   "cell_type": "code",
   "execution_count": 49,
   "id": "dd6b19fb-8ee2-4d7c-b3db-535c71eafaa1",
   "metadata": {},
   "outputs": [
    {
     "data": {
      "text/plain": [
       "5"
      ]
     },
     "execution_count": 49,
     "metadata": {},
     "output_type": "execute_result"
    }
   ],
   "source": [
    "thr.active_count()"
   ]
  },
  {
   "cell_type": "markdown",
   "id": "fc53a7dd-08a8-4331-8ec4-b46af04bc1f1",
   "metadata": {},
   "source": [
    "10.Imprima sus Dni's (identificadores) y matelos"
   ]
  },
  {
   "cell_type": "code",
   "execution_count": null,
   "id": "ec4cf134-7da8-443e-b2ad-5860b49981cc",
   "metadata": {},
   "outputs": [],
   "source": []
  }
 ],
 "metadata": {
  "kernelspec": {
   "display_name": "Python 3",
   "language": "python",
   "name": "python3"
  },
  "language_info": {
   "codemirror_mode": {
    "name": "ipython",
    "version": 3
   },
   "file_extension": ".py",
   "mimetype": "text/x-python",
   "name": "python",
   "nbconvert_exporter": "python",
   "pygments_lexer": "ipython3",
   "version": "3.8.8"
  }
 },
 "nbformat": 4,
 "nbformat_minor": 5
}
