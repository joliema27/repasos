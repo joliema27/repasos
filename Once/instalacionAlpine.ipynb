{
 "cells": [
  {
   "cell_type": "code",
   "execution_count": 2,
   "id": "76cd65ec-ddb5-44e2-adf6-732a540d2e64",
   "metadata": {},
   "outputs": [
    {
     "name": "stdout",
     "output_type": "stream",
     "text": [
      "Docker version 20.10.10, build b485636\n"
     ]
    }
   ],
   "source": [
    "!docker --version"
   ]
  },
  {
   "cell_type": "code",
   "execution_count": null,
   "id": "ba59e10d-5f8b-4f30-8137-3b6de6a14be5",
   "metadata": {},
   "outputs": [],
   "source": []
  },
  {
   "cell_type": "code",
   "execution_count": 3,
   "id": "013734b9-a1c9-437e-967a-dff0a15fcd34",
   "metadata": {},
   "outputs": [
    {
     "name": "stdout",
     "output_type": "stream",
     "text": [
      "Using default tag: latest\n",
      "latest: Pulling from library/alpine\n",
      "97518928ae5f: Pulling fs layer\n",
      "97518928ae5f: Verifying Checksum\n",
      "97518928ae5f: Download complete\n",
      "97518928ae5f: Pull complete\n",
      "Digest: sha256:635f0aa53d99017b38d1a0aa5b2082f7812b03e3cdb299103fe77b5c8a07f1d2\n",
      "Status: Downloaded newer image for alpine:latest\n",
      "docker.io/library/alpine:latest\n"
     ]
    }
   ],
   "source": [
    "!docker pull alpine"
   ]
  },
  {
   "cell_type": "code",
   "execution_count": null,
   "id": "9952a93d-eb87-43cc-a62a-bdef3e73cbfa",
   "metadata": {},
   "outputs": [],
   "source": []
  }
 ],
 "metadata": {
  "kernelspec": {
   "display_name": "Python 3",
   "language": "python",
   "name": "python3"
  },
  "language_info": {
   "codemirror_mode": {
    "name": "ipython",
    "version": 3
   },
   "file_extension": ".py",
   "mimetype": "text/x-python",
   "name": "python",
   "nbconvert_exporter": "python",
   "pygments_lexer": "ipython3",
   "version": "3.8.8"
  }
 },
 "nbformat": 4,
 "nbformat_minor": 5
}
