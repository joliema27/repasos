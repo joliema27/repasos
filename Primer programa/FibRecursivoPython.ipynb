{
 "cells": [
  {
   "cell_type": "markdown",
   "id": "69265f39-9512-47c5-b285-d6b09e05eec4",
   "metadata": {},
   "source": [
    "Jolie Mabel Alain Vásquez, exp 22081586"
   ]
  },
  {
   "cell_type": "markdown",
   "id": "41f1ee77-17db-4050-9cf3-76c68a3466ba",
   "metadata": {},
   "source": [
    "url de la práctica:"
   ]
  },
  {
   "cell_type": "markdown",
   "id": "cc94663c-d5aa-44fa-986d-7675cad7b4f7",
   "metadata": {},
   "source": [
    "# 1 prg.\n"
   ]
  },
  {
   "cell_type": "markdown",
   "id": "d7feb173-62ca-49ae-87be-3497e1a26c4f",
   "metadata": {},
   "source": [
    "# Fib de 40, 50 80"
   ]
  },
  {
   "cell_type": "markdown",
   "id": "8596910b-f09d-4d67-8146-d3649768d366",
   "metadata": {},
   "source": [
    "## La formula que he usado es"
   ]
  },
  {
   "cell_type": "code",
   "execution_count": 2,
   "id": "da53771f-b75c-4d91-88bc-5e25367c5f09",
   "metadata": {},
   "outputs": [],
   "source": [
    "from IPython import display"
   ]
  },
  {
   "cell_type": "code",
   "execution_count": 8,
   "id": "dbc3820e-9926-47b2-81d4-a9df10b1bb19",
   "metadata": {},
   "outputs": [
    {
     "data": {
      "image/png": "[encoded data removed]",
      "text/plain": [
       "<IPython.core.display.Image object>"
      ]
     },
     "execution_count": 8,
     "metadata": {},
     "output_type": "execute_result"
    }
   ],
   "source": [
    "display.Image(\"fibonachi.png\")"
   ]
  },
  {
   "cell_type": "code",
   "execution_count": 16,
   "id": "05b13bd9-67f2-455d-a24b-4f389e2bdab7",
   "metadata": {},
   "outputs": [],
   "source": [
    "def f(n):\n",
    "    if n<=1:\n",
    "        return n\n",
    "    else:\n",
    "        return (f(n-1)+f(n-2))"
   ]
  },
  {
   "cell_type": "code",
   "execution_count": 19,
   "id": "ce14ba71-6471-413f-a286-66d67b27025f",
   "metadata": {},
   "outputs": [
    {
     "data": {
      "text/plain": [
       "6765"
      ]
     },
     "execution_count": 19,
     "metadata": {},
     "output_type": "execute_result"
    }
   ],
   "source": [
    "f(20)"
   ]
  },
  {
   "cell_type": "code",
   "execution_count": 20,
   "id": "458fc380-4a22-41da-8e39-3c211a85a1c0",
   "metadata": {},
   "outputs": [
    {
     "data": {
      "text/plain": [
       "832040"
      ]
     },
     "execution_count": 20,
     "metadata": {},
     "output_type": "execute_result"
    }
   ],
   "source": [
    "f(30)"
   ]
  },
  {
   "cell_type": "code",
   "execution_count": 21,
   "id": "a4849907-1d91-454b-b47b-28030d495dfa",
   "metadata": {},
   "outputs": [
    {
     "data": {
      "text/plain": [
       "102334155"
      ]
     },
     "execution_count": 21,
     "metadata": {},
     "output_type": "execute_result"
    }
   ],
   "source": [
    "f(40)"
   ]
  },
  {
   "cell_type": "code",
   "execution_count": 26,
   "id": "cbd88225-8ce7-4dec-a9ae-c319c4b7ce40",
   "metadata": {},
   "outputs": [
    {
     "data": {
      "text/plain": [
       "'C:\\\\Users\\\\jolie\\\\Primer programa'"
      ]
     },
     "execution_count": 26,
     "metadata": {},
     "output_type": "execute_result"
    }
   ],
   "source": [
    "pwd"
   ]
  },
  {
   "cell_type": "code",
   "execution_count": 27,
   "id": "644cc8ca-4f42-4c73-853b-d0154bc0352a",
   "metadata": {},
   "outputs": [
    {
     "name": "stdout",
     "output_type": "stream",
     "text": [
      " El volumen de la unidad C es OS\n",
      " El número de serie del volumen es: EE47-DF95\n",
      "\n",
      " Directorio de C:\\Users\\jolie\\Primer programa\n",
      "\n",
      "16/09/2021  19:05    <DIR>          .\n",
      "16/09/2021  19:05    <DIR>          ..\n",
      "16/09/2021  19:02    <DIR>          .ipynb_checkpoints\n",
      "16/09/2021  18:26             6.686 fibonachi.png\n",
      "16/09/2021  19:05            43.972 FibRecursivoPython.ipynb\n",
      "               2 archivos         50.658 bytes\n",
      "               3 dirs  86.397.038.592 bytes libres\n"
     ]
    }
   ],
   "source": [
    "ls"
   ]
  },
  {
   "cell_type": "code",
   "execution_count": null,
   "id": "4705b91a-3e2c-46aa-a6f2-6eb06b3b604b",
   "metadata": {},
   "outputs": [],
   "source": []
  }
 ],
 "metadata": {
  "kernelspec": {
   "display_name": "Python 3",
   "language": "python",
   "name": "python3"
  },
  "language_info": {
   "codemirror_mode": {
    "name": "ipython",
    "version": 3
   },
   "file_extension": ".py",
   "mimetype": "text/x-python",
   "name": "python",
   "nbconvert_exporter": "python",
   "pygments_lexer": "ipython3",
   "version": "3.8.8"
  }
 },
 "nbformat": 4,
 "nbformat_minor": 5
}
